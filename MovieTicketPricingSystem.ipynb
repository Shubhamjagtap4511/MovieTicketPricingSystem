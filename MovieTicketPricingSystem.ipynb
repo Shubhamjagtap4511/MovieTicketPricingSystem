{
 "cells": [
  {
   "cell_type": "code",
   "execution_count": 1,
   "metadata": {
    "colab": {
     "base_uri": "https://localhost:8080/",
     "height": 73,
     "resources": {
      "http://localhost:8080/nbextensions/google.colab/files.js": {
       "data": "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",
       "headers": [
        [
         "content-type",
         "application/javascript"
        ]
       ],
       "ok": true,
       "status": 200,
       "status_text": ""
      }
     }
    },
    "id": "-CeOtQxFGK7z",
    "outputId": "0888b163-52a0-4543-99bb-729ac271509c"
   },
   "outputs": [
    {
     "ename": "ModuleNotFoundError",
     "evalue": "No module named 'google.colab'",
     "output_type": "error",
     "traceback": [
      "\u001b[1;31m---------------------------------------------------------------------------\u001b[0m",
      "\u001b[1;31mModuleNotFoundError\u001b[0m                       Traceback (most recent call last)",
      "\u001b[1;32m<ipython-input-1-eb980adb6abc>\u001b[0m in \u001b[0;36m<module>\u001b[1;34m\u001b[0m\n\u001b[1;32m----> 1\u001b[1;33m \u001b[1;32mfrom\u001b[0m \u001b[0mgoogle\u001b[0m\u001b[1;33m.\u001b[0m\u001b[0mcolab\u001b[0m \u001b[1;32mimport\u001b[0m \u001b[0mfiles\u001b[0m\u001b[1;33m\u001b[0m\u001b[1;33m\u001b[0m\u001b[0m\n\u001b[0m\u001b[0;32m      2\u001b[0m \u001b[0madfile\u001b[0m\u001b[1;33m=\u001b[0m\u001b[0mfiles\u001b[0m\u001b[1;33m.\u001b[0m\u001b[0mupload\u001b[0m\u001b[1;33m(\u001b[0m\u001b[1;33m)\u001b[0m\u001b[1;33m\u001b[0m\u001b[1;33m\u001b[0m\u001b[0m\n",
      "\u001b[1;31mModuleNotFoundError\u001b[0m: No module named 'google.colab'"
     ]
    }
   ],
   "source": [
    "from google.colab import files\n",
    "adfile=files.upload()"
   ]
  },
  {
   "cell_type": "code",
   "execution_count": 2,
   "metadata": {
    "id": "hwYdvRl5HqqC"
   },
   "outputs": [],
   "source": [
    "import numpy as np\n",
    "import pandas as pd\n",
    "import matplotlib.pyplot as plt\n",
    "import seaborn as sns\n",
    "from scipy.stats import skew\n",
    "from sklearn.model_selection import train_test_split\n",
    "from sklearn.preprocessing import LabelEncoder\n",
    "from sklearn.linear_model import LinearRegression\n",
    "from sklearn.preprocessing import PolynomialFeatures\n",
    "from xgboost import XGBRegressor\n",
    "from sklearn.metrics import r2_score\n",
    "import warnings\n",
    "warnings.filterwarnings('ignore')"
   ]
  },
  {
   "cell_type": "code",
   "execution_count": 3,
   "metadata": {
    "id": "Z8w3duVIHtYe"
   },
   "outputs": [],
   "source": [
    "df=pd.read_csv(\"movieticket.csv\")"
   ]
  },
  {
   "cell_type": "code",
   "execution_count": 4,
   "metadata": {
    "colab": {
     "base_uri": "https://localhost:8080/",
     "height": 197
    },
    "id": "7q7BAPuuH0pE",
    "outputId": "ff3b9f0a-71e7-4cbd-92ae-126ee231c426"
   },
   "outputs": [
    {
     "data": {
      "text/html": [
       "<div>\n",
       "<style scoped>\n",
       "    .dataframe tbody tr th:only-of-type {\n",
       "        vertical-align: middle;\n",
       "    }\n",
       "\n",
       "    .dataframe tbody tr th {\n",
       "        vertical-align: top;\n",
       "    }\n",
       "\n",
       "    .dataframe thead th {\n",
       "        text-align: right;\n",
       "    }\n",
       "</style>\n",
       "<table border=\"1\" class=\"dataframe\">\n",
       "  <thead>\n",
       "    <tr style=\"text-align: right;\">\n",
       "      <th></th>\n",
       "      <th>film_code</th>\n",
       "      <th>cinema_code</th>\n",
       "      <th>total_sales</th>\n",
       "      <th>tickets_sold</th>\n",
       "      <th>tickets_out</th>\n",
       "      <th>show_time</th>\n",
       "      <th>occu_perc</th>\n",
       "      <th>ticket_price</th>\n",
       "      <th>ticket_use</th>\n",
       "      <th>capacity</th>\n",
       "      <th>date</th>\n",
       "      <th>month</th>\n",
       "      <th>quarter</th>\n",
       "      <th>day</th>\n",
       "    </tr>\n",
       "  </thead>\n",
       "  <tbody>\n",
       "    <tr>\n",
       "      <th>0</th>\n",
       "      <td>1492</td>\n",
       "      <td>304</td>\n",
       "      <td>3900000</td>\n",
       "      <td>26</td>\n",
       "      <td>0</td>\n",
       "      <td>4</td>\n",
       "      <td>4.26</td>\n",
       "      <td>150000.0</td>\n",
       "      <td>26</td>\n",
       "      <td>610.328638</td>\n",
       "      <td>2018-05-05</td>\n",
       "      <td>5</td>\n",
       "      <td>2</td>\n",
       "      <td>5</td>\n",
       "    </tr>\n",
       "    <tr>\n",
       "      <th>1</th>\n",
       "      <td>1492</td>\n",
       "      <td>352</td>\n",
       "      <td>3360000</td>\n",
       "      <td>42</td>\n",
       "      <td>0</td>\n",
       "      <td>5</td>\n",
       "      <td>8.08</td>\n",
       "      <td>80000.0</td>\n",
       "      <td>42</td>\n",
       "      <td>519.801980</td>\n",
       "      <td>2018-05-05</td>\n",
       "      <td>5</td>\n",
       "      <td>2</td>\n",
       "      <td>5</td>\n",
       "    </tr>\n",
       "    <tr>\n",
       "      <th>2</th>\n",
       "      <td>1492</td>\n",
       "      <td>489</td>\n",
       "      <td>2560000</td>\n",
       "      <td>32</td>\n",
       "      <td>0</td>\n",
       "      <td>4</td>\n",
       "      <td>20.00</td>\n",
       "      <td>80000.0</td>\n",
       "      <td>32</td>\n",
       "      <td>160.000000</td>\n",
       "      <td>2018-05-05</td>\n",
       "      <td>5</td>\n",
       "      <td>2</td>\n",
       "      <td>5</td>\n",
       "    </tr>\n",
       "    <tr>\n",
       "      <th>3</th>\n",
       "      <td>1492</td>\n",
       "      <td>429</td>\n",
       "      <td>1200000</td>\n",
       "      <td>12</td>\n",
       "      <td>0</td>\n",
       "      <td>1</td>\n",
       "      <td>11.01</td>\n",
       "      <td>100000.0</td>\n",
       "      <td>12</td>\n",
       "      <td>108.991826</td>\n",
       "      <td>2018-05-05</td>\n",
       "      <td>5</td>\n",
       "      <td>2</td>\n",
       "      <td>5</td>\n",
       "    </tr>\n",
       "    <tr>\n",
       "      <th>4</th>\n",
       "      <td>1492</td>\n",
       "      <td>524</td>\n",
       "      <td>1200000</td>\n",
       "      <td>15</td>\n",
       "      <td>0</td>\n",
       "      <td>3</td>\n",
       "      <td>16.67</td>\n",
       "      <td>80000.0</td>\n",
       "      <td>15</td>\n",
       "      <td>89.982004</td>\n",
       "      <td>2018-05-05</td>\n",
       "      <td>5</td>\n",
       "      <td>2</td>\n",
       "      <td>5</td>\n",
       "    </tr>\n",
       "  </tbody>\n",
       "</table>\n",
       "</div>"
      ],
      "text/plain": [
       "   film_code  cinema_code  total_sales  tickets_sold  tickets_out  show_time  \\\n",
       "0       1492          304      3900000            26            0          4   \n",
       "1       1492          352      3360000            42            0          5   \n",
       "2       1492          489      2560000            32            0          4   \n",
       "3       1492          429      1200000            12            0          1   \n",
       "4       1492          524      1200000            15            0          3   \n",
       "\n",
       "   occu_perc  ticket_price  ticket_use    capacity        date  month  \\\n",
       "0       4.26      150000.0          26  610.328638  2018-05-05      5   \n",
       "1       8.08       80000.0          42  519.801980  2018-05-05      5   \n",
       "2      20.00       80000.0          32  160.000000  2018-05-05      5   \n",
       "3      11.01      100000.0          12  108.991826  2018-05-05      5   \n",
       "4      16.67       80000.0          15   89.982004  2018-05-05      5   \n",
       "\n",
       "   quarter  day  \n",
       "0        2    5  \n",
       "1        2    5  \n",
       "2        2    5  \n",
       "3        2    5  \n",
       "4        2    5  "
      ]
     },
     "execution_count": 4,
     "metadata": {},
     "output_type": "execute_result"
    }
   ],
   "source": [
    "df.head()"
   ]
  },
  {
   "cell_type": "code",
   "execution_count": 5,
   "metadata": {
    "colab": {
     "base_uri": "https://localhost:8080/",
     "height": 307
    },
    "id": "y65RnG6MNWEd",
    "outputId": "9b069b12-9872-4729-dbe5-2f6f327ca1e5"
   },
   "outputs": [
    {
     "data": {
      "text/html": [
       "<div>\n",
       "<style scoped>\n",
       "    .dataframe tbody tr th:only-of-type {\n",
       "        vertical-align: middle;\n",
       "    }\n",
       "\n",
       "    .dataframe tbody tr th {\n",
       "        vertical-align: top;\n",
       "    }\n",
       "\n",
       "    .dataframe thead th {\n",
       "        text-align: right;\n",
       "    }\n",
       "</style>\n",
       "<table border=\"1\" class=\"dataframe\">\n",
       "  <thead>\n",
       "    <tr style=\"text-align: right;\">\n",
       "      <th></th>\n",
       "      <th>film_code</th>\n",
       "      <th>cinema_code</th>\n",
       "      <th>total_sales</th>\n",
       "      <th>tickets_sold</th>\n",
       "      <th>tickets_out</th>\n",
       "      <th>show_time</th>\n",
       "      <th>occu_perc</th>\n",
       "      <th>ticket_price</th>\n",
       "      <th>ticket_use</th>\n",
       "      <th>capacity</th>\n",
       "      <th>month</th>\n",
       "      <th>quarter</th>\n",
       "      <th>day</th>\n",
       "    </tr>\n",
       "  </thead>\n",
       "  <tbody>\n",
       "    <tr>\n",
       "      <th>count</th>\n",
       "      <td>142524.000000</td>\n",
       "      <td>142524.000000</td>\n",
       "      <td>1.425240e+05</td>\n",
       "      <td>142524.000000</td>\n",
       "      <td>142524.000000</td>\n",
       "      <td>142524.000000</td>\n",
       "      <td>142399.000000</td>\n",
       "      <td>142524.000000</td>\n",
       "      <td>142524.000000</td>\n",
       "      <td>142399.000000</td>\n",
       "      <td>142524.000000</td>\n",
       "      <td>142524.000000</td>\n",
       "      <td>142524.000000</td>\n",
       "    </tr>\n",
       "    <tr>\n",
       "      <th>mean</th>\n",
       "      <td>1518.985111</td>\n",
       "      <td>320.378427</td>\n",
       "      <td>1.234728e+07</td>\n",
       "      <td>140.137570</td>\n",
       "      <td>0.237413</td>\n",
       "      <td>3.932103</td>\n",
       "      <td>19.965986</td>\n",
       "      <td>81234.599886</td>\n",
       "      <td>139.900157</td>\n",
       "      <td>854.723605</td>\n",
       "      <td>6.776852</td>\n",
       "      <td>2.634721</td>\n",
       "      <td>16.112585</td>\n",
       "    </tr>\n",
       "    <tr>\n",
       "      <th>std</th>\n",
       "      <td>36.184450</td>\n",
       "      <td>159.701229</td>\n",
       "      <td>3.065486e+07</td>\n",
       "      <td>279.758733</td>\n",
       "      <td>2.923206</td>\n",
       "      <td>3.056276</td>\n",
       "      <td>22.653445</td>\n",
       "      <td>33236.599278</td>\n",
       "      <td>279.564935</td>\n",
       "      <td>953.118103</td>\n",
       "      <td>2.195843</td>\n",
       "      <td>0.809692</td>\n",
       "      <td>8.949471</td>\n",
       "    </tr>\n",
       "    <tr>\n",
       "      <th>min</th>\n",
       "      <td>1471.000000</td>\n",
       "      <td>32.000000</td>\n",
       "      <td>2.000000e+04</td>\n",
       "      <td>1.000000</td>\n",
       "      <td>0.000000</td>\n",
       "      <td>1.000000</td>\n",
       "      <td>0.000000</td>\n",
       "      <td>483.870968</td>\n",
       "      <td>-219.000000</td>\n",
       "      <td>-2.000000</td>\n",
       "      <td>2.000000</td>\n",
       "      <td>1.000000</td>\n",
       "      <td>1.000000</td>\n",
       "    </tr>\n",
       "    <tr>\n",
       "      <th>25%</th>\n",
       "      <td>1485.000000</td>\n",
       "      <td>181.000000</td>\n",
       "      <td>1.260000e+06</td>\n",
       "      <td>18.000000</td>\n",
       "      <td>0.000000</td>\n",
       "      <td>2.000000</td>\n",
       "      <td>3.750000</td>\n",
       "      <td>60000.000000</td>\n",
       "      <td>18.000000</td>\n",
       "      <td>276.994486</td>\n",
       "      <td>5.000000</td>\n",
       "      <td>2.000000</td>\n",
       "      <td>8.000000</td>\n",
       "    </tr>\n",
       "    <tr>\n",
       "      <th>50%</th>\n",
       "      <td>1498.000000</td>\n",
       "      <td>324.000000</td>\n",
       "      <td>3.720000e+06</td>\n",
       "      <td>50.000000</td>\n",
       "      <td>0.000000</td>\n",
       "      <td>3.000000</td>\n",
       "      <td>10.350000</td>\n",
       "      <td>79454.235185</td>\n",
       "      <td>50.000000</td>\n",
       "      <td>525.714286</td>\n",
       "      <td>7.000000</td>\n",
       "      <td>3.000000</td>\n",
       "      <td>16.000000</td>\n",
       "    </tr>\n",
       "    <tr>\n",
       "      <th>75%</th>\n",
       "      <td>1556.000000</td>\n",
       "      <td>474.000000</td>\n",
       "      <td>1.110000e+07</td>\n",
       "      <td>143.000000</td>\n",
       "      <td>0.000000</td>\n",
       "      <td>5.000000</td>\n",
       "      <td>28.210000</td>\n",
       "      <td>100000.000000</td>\n",
       "      <td>143.000000</td>\n",
       "      <td>1038.961039</td>\n",
       "      <td>9.000000</td>\n",
       "      <td>3.000000</td>\n",
       "      <td>24.000000</td>\n",
       "    </tr>\n",
       "    <tr>\n",
       "      <th>max</th>\n",
       "      <td>1589.000000</td>\n",
       "      <td>637.000000</td>\n",
       "      <td>1.262820e+09</td>\n",
       "      <td>8499.000000</td>\n",
       "      <td>311.000000</td>\n",
       "      <td>60.000000</td>\n",
       "      <td>147.500000</td>\n",
       "      <td>700000.000000</td>\n",
       "      <td>8499.000000</td>\n",
       "      <td>9692.097160</td>\n",
       "      <td>11.000000</td>\n",
       "      <td>4.000000</td>\n",
       "      <td>31.000000</td>\n",
       "    </tr>\n",
       "  </tbody>\n",
       "</table>\n",
       "</div>"
      ],
      "text/plain": [
       "           film_code    cinema_code   total_sales   tickets_sold  \\\n",
       "count  142524.000000  142524.000000  1.425240e+05  142524.000000   \n",
       "mean     1518.985111     320.378427  1.234728e+07     140.137570   \n",
       "std        36.184450     159.701229  3.065486e+07     279.758733   \n",
       "min      1471.000000      32.000000  2.000000e+04       1.000000   \n",
       "25%      1485.000000     181.000000  1.260000e+06      18.000000   \n",
       "50%      1498.000000     324.000000  3.720000e+06      50.000000   \n",
       "75%      1556.000000     474.000000  1.110000e+07     143.000000   \n",
       "max      1589.000000     637.000000  1.262820e+09    8499.000000   \n",
       "\n",
       "         tickets_out      show_time      occu_perc   ticket_price  \\\n",
       "count  142524.000000  142524.000000  142399.000000  142524.000000   \n",
       "mean        0.237413       3.932103      19.965986   81234.599886   \n",
       "std         2.923206       3.056276      22.653445   33236.599278   \n",
       "min         0.000000       1.000000       0.000000     483.870968   \n",
       "25%         0.000000       2.000000       3.750000   60000.000000   \n",
       "50%         0.000000       3.000000      10.350000   79454.235185   \n",
       "75%         0.000000       5.000000      28.210000  100000.000000   \n",
       "max       311.000000      60.000000     147.500000  700000.000000   \n",
       "\n",
       "          ticket_use       capacity          month        quarter  \\\n",
       "count  142524.000000  142399.000000  142524.000000  142524.000000   \n",
       "mean      139.900157     854.723605       6.776852       2.634721   \n",
       "std       279.564935     953.118103       2.195843       0.809692   \n",
       "min      -219.000000      -2.000000       2.000000       1.000000   \n",
       "25%        18.000000     276.994486       5.000000       2.000000   \n",
       "50%        50.000000     525.714286       7.000000       3.000000   \n",
       "75%       143.000000    1038.961039       9.000000       3.000000   \n",
       "max      8499.000000    9692.097160      11.000000       4.000000   \n",
       "\n",
       "                 day  \n",
       "count  142524.000000  \n",
       "mean       16.112585  \n",
       "std         8.949471  \n",
       "min         1.000000  \n",
       "25%         8.000000  \n",
       "50%        16.000000  \n",
       "75%        24.000000  \n",
       "max        31.000000  "
      ]
     },
     "execution_count": 5,
     "metadata": {},
     "output_type": "execute_result"
    }
   ],
   "source": [
    "df.describe()"
   ]
  },
  {
   "cell_type": "code",
   "execution_count": 6,
   "metadata": {
    "colab": {
     "base_uri": "https://localhost:8080/",
     "height": 437
    },
    "id": "9Q0Hu-zsNbKk",
    "outputId": "e4678afb-7f34-4f39-e87a-5f5e757369ff"
   },
   "outputs": [
    {
     "data": {
      "text/html": [
       "<div>\n",
       "<style scoped>\n",
       "    .dataframe tbody tr th:only-of-type {\n",
       "        vertical-align: middle;\n",
       "    }\n",
       "\n",
       "    .dataframe tbody tr th {\n",
       "        vertical-align: top;\n",
       "    }\n",
       "\n",
       "    .dataframe thead th {\n",
       "        text-align: right;\n",
       "    }\n",
       "</style>\n",
       "<table border=\"1\" class=\"dataframe\">\n",
       "  <thead>\n",
       "    <tr style=\"text-align: right;\">\n",
       "      <th></th>\n",
       "      <th>film_code</th>\n",
       "      <th>cinema_code</th>\n",
       "      <th>total_sales</th>\n",
       "      <th>tickets_sold</th>\n",
       "      <th>tickets_out</th>\n",
       "      <th>show_time</th>\n",
       "      <th>occu_perc</th>\n",
       "      <th>ticket_price</th>\n",
       "      <th>ticket_use</th>\n",
       "      <th>capacity</th>\n",
       "      <th>month</th>\n",
       "      <th>quarter</th>\n",
       "      <th>day</th>\n",
       "    </tr>\n",
       "  </thead>\n",
       "  <tbody>\n",
       "    <tr>\n",
       "      <th>film_code</th>\n",
       "      <td>1.000000</td>\n",
       "      <td>0.029530</td>\n",
       "      <td>0.009802</td>\n",
       "      <td>-0.005588</td>\n",
       "      <td>-0.000920</td>\n",
       "      <td>0.076670</td>\n",
       "      <td>-0.104120</td>\n",
       "      <td>0.104820</td>\n",
       "      <td>-0.005582</td>\n",
       "      <td>0.061224</td>\n",
       "      <td>0.851380</td>\n",
       "      <td>0.800933</td>\n",
       "      <td>-0.028686</td>\n",
       "    </tr>\n",
       "    <tr>\n",
       "      <th>cinema_code</th>\n",
       "      <td>0.029530</td>\n",
       "      <td>1.000000</td>\n",
       "      <td>-0.012910</td>\n",
       "      <td>-0.053716</td>\n",
       "      <td>0.019534</td>\n",
       "      <td>-0.187125</td>\n",
       "      <td>0.125542</td>\n",
       "      <td>0.005079</td>\n",
       "      <td>-0.053957</td>\n",
       "      <td>-0.353402</td>\n",
       "      <td>0.051027</td>\n",
       "      <td>0.049646</td>\n",
       "      <td>-0.000270</td>\n",
       "    </tr>\n",
       "    <tr>\n",
       "      <th>total_sales</th>\n",
       "      <td>0.009802</td>\n",
       "      <td>-0.012910</td>\n",
       "      <td>1.000000</td>\n",
       "      <td>0.915176</td>\n",
       "      <td>0.066810</td>\n",
       "      <td>0.509812</td>\n",
       "      <td>0.414418</td>\n",
       "      <td>0.272450</td>\n",
       "      <td>0.915112</td>\n",
       "      <td>0.376134</td>\n",
       "      <td>-0.080568</td>\n",
       "      <td>-0.051433</td>\n",
       "      <td>-0.000424</td>\n",
       "    </tr>\n",
       "    <tr>\n",
       "      <th>tickets_sold</th>\n",
       "      <td>-0.005588</td>\n",
       "      <td>-0.053716</td>\n",
       "      <td>0.915176</td>\n",
       "      <td>1.000000</td>\n",
       "      <td>0.071498</td>\n",
       "      <td>0.522088</td>\n",
       "      <td>0.493707</td>\n",
       "      <td>0.103596</td>\n",
       "      <td>0.999946</td>\n",
       "      <td>0.425468</td>\n",
       "      <td>-0.103477</td>\n",
       "      <td>-0.062666</td>\n",
       "      <td>-0.005037</td>\n",
       "    </tr>\n",
       "    <tr>\n",
       "      <th>tickets_out</th>\n",
       "      <td>-0.000920</td>\n",
       "      <td>0.019534</td>\n",
       "      <td>0.066810</td>\n",
       "      <td>0.071498</td>\n",
       "      <td>1.000000</td>\n",
       "      <td>0.078860</td>\n",
       "      <td>0.044407</td>\n",
       "      <td>0.011916</td>\n",
       "      <td>0.061091</td>\n",
       "      <td>0.037599</td>\n",
       "      <td>-0.012448</td>\n",
       "      <td>-0.007210</td>\n",
       "      <td>0.004441</td>\n",
       "    </tr>\n",
       "    <tr>\n",
       "      <th>show_time</th>\n",
       "      <td>0.076670</td>\n",
       "      <td>-0.187125</td>\n",
       "      <td>0.509812</td>\n",
       "      <td>0.522088</td>\n",
       "      <td>0.078860</td>\n",
       "      <td>1.000000</td>\n",
       "      <td>0.055617</td>\n",
       "      <td>0.176274</td>\n",
       "      <td>0.521625</td>\n",
       "      <td>0.681645</td>\n",
       "      <td>-0.023297</td>\n",
       "      <td>-0.020643</td>\n",
       "      <td>0.007646</td>\n",
       "    </tr>\n",
       "    <tr>\n",
       "      <th>occu_perc</th>\n",
       "      <td>-0.104120</td>\n",
       "      <td>0.125542</td>\n",
       "      <td>0.414418</td>\n",
       "      <td>0.493707</td>\n",
       "      <td>0.044407</td>\n",
       "      <td>0.055617</td>\n",
       "      <td>1.000000</td>\n",
       "      <td>0.084666</td>\n",
       "      <td>0.493585</td>\n",
       "      <td>-0.141262</td>\n",
       "      <td>-0.145100</td>\n",
       "      <td>-0.088856</td>\n",
       "      <td>-0.011061</td>\n",
       "    </tr>\n",
       "    <tr>\n",
       "      <th>ticket_price</th>\n",
       "      <td>0.104820</td>\n",
       "      <td>0.005079</td>\n",
       "      <td>0.272450</td>\n",
       "      <td>0.103596</td>\n",
       "      <td>0.011916</td>\n",
       "      <td>0.176274</td>\n",
       "      <td>0.084666</td>\n",
       "      <td>1.000000</td>\n",
       "      <td>0.103544</td>\n",
       "      <td>0.004287</td>\n",
       "      <td>0.048007</td>\n",
       "      <td>0.042031</td>\n",
       "      <td>0.001113</td>\n",
       "    </tr>\n",
       "    <tr>\n",
       "      <th>ticket_use</th>\n",
       "      <td>-0.005582</td>\n",
       "      <td>-0.053957</td>\n",
       "      <td>0.915112</td>\n",
       "      <td>0.999946</td>\n",
       "      <td>0.061091</td>\n",
       "      <td>0.521625</td>\n",
       "      <td>0.493585</td>\n",
       "      <td>0.103544</td>\n",
       "      <td>1.000000</td>\n",
       "      <td>0.425370</td>\n",
       "      <td>-0.103418</td>\n",
       "      <td>-0.062634</td>\n",
       "      <td>-0.005087</td>\n",
       "    </tr>\n",
       "    <tr>\n",
       "      <th>capacity</th>\n",
       "      <td>0.061224</td>\n",
       "      <td>-0.353402</td>\n",
       "      <td>0.376134</td>\n",
       "      <td>0.425468</td>\n",
       "      <td>0.037599</td>\n",
       "      <td>0.681645</td>\n",
       "      <td>-0.141262</td>\n",
       "      <td>0.004287</td>\n",
       "      <td>0.425370</td>\n",
       "      <td>1.000000</td>\n",
       "      <td>-0.025265</td>\n",
       "      <td>-0.023940</td>\n",
       "      <td>0.006255</td>\n",
       "    </tr>\n",
       "    <tr>\n",
       "      <th>month</th>\n",
       "      <td>0.851380</td>\n",
       "      <td>0.051027</td>\n",
       "      <td>-0.080568</td>\n",
       "      <td>-0.103477</td>\n",
       "      <td>-0.012448</td>\n",
       "      <td>-0.023297</td>\n",
       "      <td>-0.145100</td>\n",
       "      <td>0.048007</td>\n",
       "      <td>-0.103418</td>\n",
       "      <td>-0.025265</td>\n",
       "      <td>1.000000</td>\n",
       "      <td>0.942237</td>\n",
       "      <td>-0.161290</td>\n",
       "    </tr>\n",
       "    <tr>\n",
       "      <th>quarter</th>\n",
       "      <td>0.800933</td>\n",
       "      <td>0.049646</td>\n",
       "      <td>-0.051433</td>\n",
       "      <td>-0.062666</td>\n",
       "      <td>-0.007210</td>\n",
       "      <td>-0.020643</td>\n",
       "      <td>-0.088856</td>\n",
       "      <td>0.042031</td>\n",
       "      <td>-0.062634</td>\n",
       "      <td>-0.023940</td>\n",
       "      <td>0.942237</td>\n",
       "      <td>1.000000</td>\n",
       "      <td>-0.165723</td>\n",
       "    </tr>\n",
       "    <tr>\n",
       "      <th>day</th>\n",
       "      <td>-0.028686</td>\n",
       "      <td>-0.000270</td>\n",
       "      <td>-0.000424</td>\n",
       "      <td>-0.005037</td>\n",
       "      <td>0.004441</td>\n",
       "      <td>0.007646</td>\n",
       "      <td>-0.011061</td>\n",
       "      <td>0.001113</td>\n",
       "      <td>-0.005087</td>\n",
       "      <td>0.006255</td>\n",
       "      <td>-0.161290</td>\n",
       "      <td>-0.165723</td>\n",
       "      <td>1.000000</td>\n",
       "    </tr>\n",
       "  </tbody>\n",
       "</table>\n",
       "</div>"
      ],
      "text/plain": [
       "              film_code  cinema_code  total_sales  tickets_sold  tickets_out  \\\n",
       "film_code      1.000000     0.029530     0.009802     -0.005588    -0.000920   \n",
       "cinema_code    0.029530     1.000000    -0.012910     -0.053716     0.019534   \n",
       "total_sales    0.009802    -0.012910     1.000000      0.915176     0.066810   \n",
       "tickets_sold  -0.005588    -0.053716     0.915176      1.000000     0.071498   \n",
       "tickets_out   -0.000920     0.019534     0.066810      0.071498     1.000000   \n",
       "show_time      0.076670    -0.187125     0.509812      0.522088     0.078860   \n",
       "occu_perc     -0.104120     0.125542     0.414418      0.493707     0.044407   \n",
       "ticket_price   0.104820     0.005079     0.272450      0.103596     0.011916   \n",
       "ticket_use    -0.005582    -0.053957     0.915112      0.999946     0.061091   \n",
       "capacity       0.061224    -0.353402     0.376134      0.425468     0.037599   \n",
       "month          0.851380     0.051027    -0.080568     -0.103477    -0.012448   \n",
       "quarter        0.800933     0.049646    -0.051433     -0.062666    -0.007210   \n",
       "day           -0.028686    -0.000270    -0.000424     -0.005037     0.004441   \n",
       "\n",
       "              show_time  occu_perc  ticket_price  ticket_use  capacity  \\\n",
       "film_code      0.076670  -0.104120      0.104820   -0.005582  0.061224   \n",
       "cinema_code   -0.187125   0.125542      0.005079   -0.053957 -0.353402   \n",
       "total_sales    0.509812   0.414418      0.272450    0.915112  0.376134   \n",
       "tickets_sold   0.522088   0.493707      0.103596    0.999946  0.425468   \n",
       "tickets_out    0.078860   0.044407      0.011916    0.061091  0.037599   \n",
       "show_time      1.000000   0.055617      0.176274    0.521625  0.681645   \n",
       "occu_perc      0.055617   1.000000      0.084666    0.493585 -0.141262   \n",
       "ticket_price   0.176274   0.084666      1.000000    0.103544  0.004287   \n",
       "ticket_use     0.521625   0.493585      0.103544    1.000000  0.425370   \n",
       "capacity       0.681645  -0.141262      0.004287    0.425370  1.000000   \n",
       "month         -0.023297  -0.145100      0.048007   -0.103418 -0.025265   \n",
       "quarter       -0.020643  -0.088856      0.042031   -0.062634 -0.023940   \n",
       "day            0.007646  -0.011061      0.001113   -0.005087  0.006255   \n",
       "\n",
       "                 month   quarter       day  \n",
       "film_code     0.851380  0.800933 -0.028686  \n",
       "cinema_code   0.051027  0.049646 -0.000270  \n",
       "total_sales  -0.080568 -0.051433 -0.000424  \n",
       "tickets_sold -0.103477 -0.062666 -0.005037  \n",
       "tickets_out  -0.012448 -0.007210  0.004441  \n",
       "show_time    -0.023297 -0.020643  0.007646  \n",
       "occu_perc    -0.145100 -0.088856 -0.011061  \n",
       "ticket_price  0.048007  0.042031  0.001113  \n",
       "ticket_use   -0.103418 -0.062634 -0.005087  \n",
       "capacity     -0.025265 -0.023940  0.006255  \n",
       "month         1.000000  0.942237 -0.161290  \n",
       "quarter       0.942237  1.000000 -0.165723  \n",
       "day          -0.161290 -0.165723  1.000000  "
      ]
     },
     "execution_count": 6,
     "metadata": {},
     "output_type": "execute_result"
    }
   ],
   "source": [
    "df.corr()"
   ]
  },
  {
   "cell_type": "code",
   "execution_count": 7,
   "metadata": {
    "colab": {
     "base_uri": "https://localhost:8080/",
     "height": 651
    },
    "id": "QyGiq6jnNdLM",
    "outputId": "5313fbf0-fc90-4d42-9058-4c29348e372b"
   },
   "outputs": [
    {
     "data": {
      "image/png": "[encoded data removed]",
      "text/plain": [
       "<Figure size 720x720 with 2 Axes>"
      ]
     },
     "metadata": {
      "needs_background": "light"
     },
     "output_type": "display_data"
    }
   ],
   "source": [
    "plt.figure(figsize=(10,10))\n",
    "sns.heatmap(df.corr(),annot=True, cmap='magma_r')\n",
    "plt.show()"
   ]
  },
  {
   "cell_type": "markdown",
   "metadata": {
    "id": "w39UqcZjNih8"
   },
   "source": [
    "# **Checking For null values**\n"
   ]
  },
  {
   "cell_type": "code",
   "execution_count": 8,
   "metadata": {
    "colab": {
     "base_uri": "https://localhost:8080/"
    },
    "id": "qaHkkRFcNwoI",
    "outputId": "bd41c5e5-b355-4153-ca63-3f3dedf19751"
   },
   "outputs": [
    {
     "data": {
      "text/plain": [
       "film_code         0\n",
       "cinema_code       0\n",
       "total_sales       0\n",
       "tickets_sold      0\n",
       "tickets_out       0\n",
       "show_time         0\n",
       "occu_perc       125\n",
       "ticket_price      0\n",
       "ticket_use        0\n",
       "capacity        125\n",
       "date              0\n",
       "month             0\n",
       "quarter           0\n",
       "day               0\n",
       "dtype: int64"
      ]
     },
     "execution_count": 8,
     "metadata": {},
     "output_type": "execute_result"
    }
   ],
   "source": [
    "df.isna().sum()"
   ]
  },
  {
   "cell_type": "code",
   "execution_count": 9,
   "metadata": {
    "colab": {
     "base_uri": "https://localhost:8080/"
    },
    "id": "os6cMFX4NzmV",
    "outputId": "0875bdb6-907f-4620-b9ae-05cfcfa04a21"
   },
   "outputs": [
    {
     "data": {
      "text/plain": [
       "film_code         0\n",
       "cinema_code       0\n",
       "total_sales       0\n",
       "tickets_sold      0\n",
       "tickets_out       0\n",
       "show_time         0\n",
       "occu_perc       125\n",
       "ticket_price      0\n",
       "ticket_use        0\n",
       "capacity        125\n",
       "date              0\n",
       "month             0\n",
       "quarter           0\n",
       "day               0\n",
       "dtype: int64"
      ]
     },
     "execution_count": 9,
     "metadata": {},
     "output_type": "execute_result"
    }
   ],
   "source": [
    "df.isnull().sum()"
   ]
  },
  {
   "cell_type": "code",
   "execution_count": 10,
   "metadata": {
    "colab": {
     "base_uri": "https://localhost:8080/"
    },
    "id": "Q_txP73RN2MN",
    "outputId": "c6c0c2d1-149b-4f9d-8c4a-0145eee721bc"
   },
   "outputs": [
    {
     "name": "stdout",
     "output_type": "stream",
     "text": [
      "<class 'pandas.core.frame.DataFrame'>\n",
      "RangeIndex: 142524 entries, 0 to 142523\n",
      "Data columns (total 14 columns):\n",
      " #   Column        Non-Null Count   Dtype  \n",
      "---  ------        --------------   -----  \n",
      " 0   film_code     142524 non-null  int64  \n",
      " 1   cinema_code   142524 non-null  int64  \n",
      " 2   total_sales   142524 non-null  int64  \n",
      " 3   tickets_sold  142524 non-null  int64  \n",
      " 4   tickets_out   142524 non-null  int64  \n",
      " 5   show_time     142524 non-null  int64  \n",
      " 6   occu_perc     142399 non-null  float64\n",
      " 7   ticket_price  142524 non-null  float64\n",
      " 8   ticket_use    142524 non-null  int64  \n",
      " 9   capacity      142399 non-null  float64\n",
      " 10  date          142524 non-null  object \n",
      " 11  month         142524 non-null  int64  \n",
      " 12  quarter       142524 non-null  int64  \n",
      " 13  day           142524 non-null  int64  \n",
      "dtypes: float64(3), int64(10), object(1)\n",
      "memory usage: 15.2+ MB\n"
     ]
    }
   ],
   "source": [
    "df.info()"
   ]
  },
  {
   "cell_type": "code",
   "execution_count": 11,
   "metadata": {
    "id": "7EzULNWdfoO2"
   },
   "outputs": [],
   "source": [
    "df['capacity'].fillna(df['capacity'].mean(),inplace=True)"
   ]
  },
  {
   "cell_type": "code",
   "execution_count": 12,
   "metadata": {
    "id": "HNWMllCGiZmJ"
   },
   "outputs": [],
   "source": [
    "df['occu_perc'].fillna(df['occu_perc'].mean(),inplace=True)"
   ]
  },
  {
   "cell_type": "code",
   "execution_count": 13,
   "metadata": {
    "colab": {
     "base_uri": "https://localhost:8080/"
    },
    "id": "xRVM7eZPifjM",
    "outputId": "66e1b7a2-9791-4726-dbcb-f02dda8aa1b3"
   },
   "outputs": [
    {
     "data": {
      "text/plain": [
       "film_code       0\n",
       "cinema_code     0\n",
       "total_sales     0\n",
       "tickets_sold    0\n",
       "tickets_out     0\n",
       "show_time       0\n",
       "occu_perc       0\n",
       "ticket_price    0\n",
       "ticket_use      0\n",
       "capacity        0\n",
       "date            0\n",
       "month           0\n",
       "quarter         0\n",
       "day             0\n",
       "dtype: int64"
      ]
     },
     "execution_count": 13,
     "metadata": {},
     "output_type": "execute_result"
    }
   ],
   "source": [
    "df.isna().sum()"
   ]
  },
  {
   "cell_type": "code",
   "execution_count": 14,
   "metadata": {
    "id": "Zy37oHcuii5X"
   },
   "outputs": [],
   "source": [
    "df.drop(['film_code','cinema_code','total_sales','tickets_sold','tickets_out','ticket_use','month','quarter','day'],axis=1,inplace=True)"
   ]
  },
  {
   "cell_type": "code",
   "execution_count": 15,
   "metadata": {
    "colab": {
     "base_uri": "https://localhost:8080/",
     "height": 406
    },
    "id": "CKLcLmd4kC_M",
    "outputId": "99212017-f6ce-4b84-ddbf-9a7cc9211635"
   },
   "outputs": [
    {
     "data": {
      "text/html": [
       "<div>\n",
       "<style scoped>\n",
       "    .dataframe tbody tr th:only-of-type {\n",
       "        vertical-align: middle;\n",
       "    }\n",
       "\n",
       "    .dataframe tbody tr th {\n",
       "        vertical-align: top;\n",
       "    }\n",
       "\n",
       "    .dataframe thead th {\n",
       "        text-align: right;\n",
       "    }\n",
       "</style>\n",
       "<table border=\"1\" class=\"dataframe\">\n",
       "  <thead>\n",
       "    <tr style=\"text-align: right;\">\n",
       "      <th></th>\n",
       "      <th>show_time</th>\n",
       "      <th>occu_perc</th>\n",
       "      <th>ticket_price</th>\n",
       "      <th>capacity</th>\n",
       "      <th>date</th>\n",
       "    </tr>\n",
       "  </thead>\n",
       "  <tbody>\n",
       "    <tr>\n",
       "      <th>0</th>\n",
       "      <td>4</td>\n",
       "      <td>4.26</td>\n",
       "      <td>150000.0</td>\n",
       "      <td>610.328638</td>\n",
       "      <td>2018-05-05</td>\n",
       "    </tr>\n",
       "    <tr>\n",
       "      <th>1</th>\n",
       "      <td>5</td>\n",
       "      <td>8.08</td>\n",
       "      <td>80000.0</td>\n",
       "      <td>519.801980</td>\n",
       "      <td>2018-05-05</td>\n",
       "    </tr>\n",
       "    <tr>\n",
       "      <th>2</th>\n",
       "      <td>4</td>\n",
       "      <td>20.00</td>\n",
       "      <td>80000.0</td>\n",
       "      <td>160.000000</td>\n",
       "      <td>2018-05-05</td>\n",
       "    </tr>\n",
       "    <tr>\n",
       "      <th>3</th>\n",
       "      <td>1</td>\n",
       "      <td>11.01</td>\n",
       "      <td>100000.0</td>\n",
       "      <td>108.991826</td>\n",
       "      <td>2018-05-05</td>\n",
       "    </tr>\n",
       "    <tr>\n",
       "      <th>4</th>\n",
       "      <td>3</td>\n",
       "      <td>16.67</td>\n",
       "      <td>80000.0</td>\n",
       "      <td>89.982004</td>\n",
       "      <td>2018-05-05</td>\n",
       "    </tr>\n",
       "    <tr>\n",
       "      <th>...</th>\n",
       "      <td>...</td>\n",
       "      <td>...</td>\n",
       "      <td>...</td>\n",
       "      <td>...</td>\n",
       "      <td>...</td>\n",
       "    </tr>\n",
       "    <tr>\n",
       "      <th>142519</th>\n",
       "      <td>2</td>\n",
       "      <td>3.86</td>\n",
       "      <td>60000.0</td>\n",
       "      <td>569.948187</td>\n",
       "      <td>2018-11-04</td>\n",
       "    </tr>\n",
       "    <tr>\n",
       "      <th>142520</th>\n",
       "      <td>1</td>\n",
       "      <td>65.22</td>\n",
       "      <td>80000.0</td>\n",
       "      <td>22.999080</td>\n",
       "      <td>2018-11-04</td>\n",
       "    </tr>\n",
       "    <tr>\n",
       "      <th>142521</th>\n",
       "      <td>3</td>\n",
       "      <td>9.20</td>\n",
       "      <td>132500.0</td>\n",
       "      <td>86.956522</td>\n",
       "      <td>2018-11-04</td>\n",
       "    </tr>\n",
       "    <tr>\n",
       "      <th>142522</th>\n",
       "      <td>2</td>\n",
       "      <td>5.00</td>\n",
       "      <td>120000.0</td>\n",
       "      <td>100.000000</td>\n",
       "      <td>2018-11-04</td>\n",
       "    </tr>\n",
       "    <tr>\n",
       "      <th>142523</th>\n",
       "      <td>1</td>\n",
       "      <td>1.79</td>\n",
       "      <td>50000.0</td>\n",
       "      <td>279.329609</td>\n",
       "      <td>2018-11-04</td>\n",
       "    </tr>\n",
       "  </tbody>\n",
       "</table>\n",
       "<p>142524 rows × 5 columns</p>\n",
       "</div>"
      ],
      "text/plain": [
       "        show_time  occu_perc  ticket_price    capacity        date\n",
       "0               4       4.26      150000.0  610.328638  2018-05-05\n",
       "1               5       8.08       80000.0  519.801980  2018-05-05\n",
       "2               4      20.00       80000.0  160.000000  2018-05-05\n",
       "3               1      11.01      100000.0  108.991826  2018-05-05\n",
       "4               3      16.67       80000.0   89.982004  2018-05-05\n",
       "...           ...        ...           ...         ...         ...\n",
       "142519          2       3.86       60000.0  569.948187  2018-11-04\n",
       "142520          1      65.22       80000.0   22.999080  2018-11-04\n",
       "142521          3       9.20      132500.0   86.956522  2018-11-04\n",
       "142522          2       5.00      120000.0  100.000000  2018-11-04\n",
       "142523          1       1.79       50000.0  279.329609  2018-11-04\n",
       "\n",
       "[142524 rows x 5 columns]"
      ]
     },
     "execution_count": 15,
     "metadata": {},
     "output_type": "execute_result"
    }
   ],
   "source": [
    "df"
   ]
  },
  {
   "cell_type": "code",
   "execution_count": 16,
   "metadata": {
    "colab": {
     "base_uri": "https://localhost:8080/",
     "height": 167
    },
    "id": "ACwXJfqjuMCK",
    "outputId": "2b3ad72a-2d13-4ae0-fede-137da851689f"
   },
   "outputs": [
    {
     "data": {
      "text/html": [
       "<div>\n",
       "<style scoped>\n",
       "    .dataframe tbody tr th:only-of-type {\n",
       "        vertical-align: middle;\n",
       "    }\n",
       "\n",
       "    .dataframe tbody tr th {\n",
       "        vertical-align: top;\n",
       "    }\n",
       "\n",
       "    .dataframe thead th {\n",
       "        text-align: right;\n",
       "    }\n",
       "</style>\n",
       "<table border=\"1\" class=\"dataframe\">\n",
       "  <thead>\n",
       "    <tr style=\"text-align: right;\">\n",
       "      <th></th>\n",
       "      <th>show_time</th>\n",
       "      <th>occu_perc</th>\n",
       "      <th>ticket_price</th>\n",
       "      <th>capacity</th>\n",
       "    </tr>\n",
       "  </thead>\n",
       "  <tbody>\n",
       "    <tr>\n",
       "      <th>show_time</th>\n",
       "      <td>1.000000</td>\n",
       "      <td>0.055603</td>\n",
       "      <td>0.176274</td>\n",
       "      <td>0.681474</td>\n",
       "    </tr>\n",
       "    <tr>\n",
       "      <th>occu_perc</th>\n",
       "      <td>0.055603</td>\n",
       "      <td>1.000000</td>\n",
       "      <td>0.084631</td>\n",
       "      <td>-0.141262</td>\n",
       "    </tr>\n",
       "    <tr>\n",
       "      <th>ticket_price</th>\n",
       "      <td>0.176274</td>\n",
       "      <td>0.084631</td>\n",
       "      <td>1.000000</td>\n",
       "      <td>0.004285</td>\n",
       "    </tr>\n",
       "    <tr>\n",
       "      <th>capacity</th>\n",
       "      <td>0.681474</td>\n",
       "      <td>-0.141262</td>\n",
       "      <td>0.004285</td>\n",
       "      <td>1.000000</td>\n",
       "    </tr>\n",
       "  </tbody>\n",
       "</table>\n",
       "</div>"
      ],
      "text/plain": [
       "              show_time  occu_perc  ticket_price  capacity\n",
       "show_time      1.000000   0.055603      0.176274  0.681474\n",
       "occu_perc      0.055603   1.000000      0.084631 -0.141262\n",
       "ticket_price   0.176274   0.084631      1.000000  0.004285\n",
       "capacity       0.681474  -0.141262      0.004285  1.000000"
      ]
     },
     "execution_count": 16,
     "metadata": {},
     "output_type": "execute_result"
    }
   ],
   "source": [
    "df.corr() "
   ]
  },
  {
   "cell_type": "code",
   "execution_count": 17,
   "metadata": {
    "id": "a44wH6E3yAg5"
   },
   "outputs": [],
   "source": [
    "df_num=df.select_dtypes(['int64','float64'])\n",
    "df_cat=df.select_dtypes(object)"
   ]
  },
  {
   "cell_type": "code",
   "execution_count": 18,
   "metadata": {
    "colab": {
     "base_uri": "https://localhost:8080/",
     "height": 406
    },
    "id": "8oAYdDMzzJ6U",
    "outputId": "5c8954ec-2f91-4bda-fa3d-eaa8bd738fd0"
   },
   "outputs": [
    {
     "data": {
      "text/html": [
       "<div>\n",
       "<style scoped>\n",
       "    .dataframe tbody tr th:only-of-type {\n",
       "        vertical-align: middle;\n",
       "    }\n",
       "\n",
       "    .dataframe tbody tr th {\n",
       "        vertical-align: top;\n",
       "    }\n",
       "\n",
       "    .dataframe thead th {\n",
       "        text-align: right;\n",
       "    }\n",
       "</style>\n",
       "<table border=\"1\" class=\"dataframe\">\n",
       "  <thead>\n",
       "    <tr style=\"text-align: right;\">\n",
       "      <th></th>\n",
       "      <th>date</th>\n",
       "    </tr>\n",
       "  </thead>\n",
       "  <tbody>\n",
       "    <tr>\n",
       "      <th>0</th>\n",
       "      <td>2018-05-05</td>\n",
       "    </tr>\n",
       "    <tr>\n",
       "      <th>1</th>\n",
       "      <td>2018-05-05</td>\n",
       "    </tr>\n",
       "    <tr>\n",
       "      <th>2</th>\n",
       "      <td>2018-05-05</td>\n",
       "    </tr>\n",
       "    <tr>\n",
       "      <th>3</th>\n",
       "      <td>2018-05-05</td>\n",
       "    </tr>\n",
       "    <tr>\n",
       "      <th>4</th>\n",
       "      <td>2018-05-05</td>\n",
       "    </tr>\n",
       "    <tr>\n",
       "      <th>...</th>\n",
       "      <td>...</td>\n",
       "    </tr>\n",
       "    <tr>\n",
       "      <th>142519</th>\n",
       "      <td>2018-11-04</td>\n",
       "    </tr>\n",
       "    <tr>\n",
       "      <th>142520</th>\n",
       "      <td>2018-11-04</td>\n",
       "    </tr>\n",
       "    <tr>\n",
       "      <th>142521</th>\n",
       "      <td>2018-11-04</td>\n",
       "    </tr>\n",
       "    <tr>\n",
       "      <th>142522</th>\n",
       "      <td>2018-11-04</td>\n",
       "    </tr>\n",
       "    <tr>\n",
       "      <th>142523</th>\n",
       "      <td>2018-11-04</td>\n",
       "    </tr>\n",
       "  </tbody>\n",
       "</table>\n",
       "<p>142524 rows × 1 columns</p>\n",
       "</div>"
      ],
      "text/plain": [
       "              date\n",
       "0       2018-05-05\n",
       "1       2018-05-05\n",
       "2       2018-05-05\n",
       "3       2018-05-05\n",
       "4       2018-05-05\n",
       "...            ...\n",
       "142519  2018-11-04\n",
       "142520  2018-11-04\n",
       "142521  2018-11-04\n",
       "142522  2018-11-04\n",
       "142523  2018-11-04\n",
       "\n",
       "[142524 rows x 1 columns]"
      ]
     },
     "execution_count": 18,
     "metadata": {},
     "output_type": "execute_result"
    }
   ],
   "source": [
    "df_cat"
   ]
  },
  {
   "cell_type": "code",
   "execution_count": 19,
   "metadata": {
    "colab": {
     "base_uri": "https://localhost:8080/",
     "height": 406
    },
    "id": "c1WX0USJzMod",
    "outputId": "e618f12d-b44c-4a5c-d50f-1476ebfb4786"
   },
   "outputs": [
    {
     "data": {
      "text/html": [
       "<div>\n",
       "<style scoped>\n",
       "    .dataframe tbody tr th:only-of-type {\n",
       "        vertical-align: middle;\n",
       "    }\n",
       "\n",
       "    .dataframe tbody tr th {\n",
       "        vertical-align: top;\n",
       "    }\n",
       "\n",
       "    .dataframe thead th {\n",
       "        text-align: right;\n",
       "    }\n",
       "</style>\n",
       "<table border=\"1\" class=\"dataframe\">\n",
       "  <thead>\n",
       "    <tr style=\"text-align: right;\">\n",
       "      <th></th>\n",
       "      <th>show_time</th>\n",
       "      <th>occu_perc</th>\n",
       "      <th>ticket_price</th>\n",
       "      <th>capacity</th>\n",
       "    </tr>\n",
       "  </thead>\n",
       "  <tbody>\n",
       "    <tr>\n",
       "      <th>0</th>\n",
       "      <td>4</td>\n",
       "      <td>4.26</td>\n",
       "      <td>150000.0</td>\n",
       "      <td>610.328638</td>\n",
       "    </tr>\n",
       "    <tr>\n",
       "      <th>1</th>\n",
       "      <td>5</td>\n",
       "      <td>8.08</td>\n",
       "      <td>80000.0</td>\n",
       "      <td>519.801980</td>\n",
       "    </tr>\n",
       "    <tr>\n",
       "      <th>2</th>\n",
       "      <td>4</td>\n",
       "      <td>20.00</td>\n",
       "      <td>80000.0</td>\n",
       "      <td>160.000000</td>\n",
       "    </tr>\n",
       "    <tr>\n",
       "      <th>3</th>\n",
       "      <td>1</td>\n",
       "      <td>11.01</td>\n",
       "      <td>100000.0</td>\n",
       "      <td>108.991826</td>\n",
       "    </tr>\n",
       "    <tr>\n",
       "      <th>4</th>\n",
       "      <td>3</td>\n",
       "      <td>16.67</td>\n",
       "      <td>80000.0</td>\n",
       "      <td>89.982004</td>\n",
       "    </tr>\n",
       "    <tr>\n",
       "      <th>...</th>\n",
       "      <td>...</td>\n",
       "      <td>...</td>\n",
       "      <td>...</td>\n",
       "      <td>...</td>\n",
       "    </tr>\n",
       "    <tr>\n",
       "      <th>142519</th>\n",
       "      <td>2</td>\n",
       "      <td>3.86</td>\n",
       "      <td>60000.0</td>\n",
       "      <td>569.948187</td>\n",
       "    </tr>\n",
       "    <tr>\n",
       "      <th>142520</th>\n",
       "      <td>1</td>\n",
       "      <td>65.22</td>\n",
       "      <td>80000.0</td>\n",
       "      <td>22.999080</td>\n",
       "    </tr>\n",
       "    <tr>\n",
       "      <th>142521</th>\n",
       "      <td>3</td>\n",
       "      <td>9.20</td>\n",
       "      <td>132500.0</td>\n",
       "      <td>86.956522</td>\n",
       "    </tr>\n",
       "    <tr>\n",
       "      <th>142522</th>\n",
       "      <td>2</td>\n",
       "      <td>5.00</td>\n",
       "      <td>120000.0</td>\n",
       "      <td>100.000000</td>\n",
       "    </tr>\n",
       "    <tr>\n",
       "      <th>142523</th>\n",
       "      <td>1</td>\n",
       "      <td>1.79</td>\n",
       "      <td>50000.0</td>\n",
       "      <td>279.329609</td>\n",
       "    </tr>\n",
       "  </tbody>\n",
       "</table>\n",
       "<p>142524 rows × 4 columns</p>\n",
       "</div>"
      ],
      "text/plain": [
       "        show_time  occu_perc  ticket_price    capacity\n",
       "0               4       4.26      150000.0  610.328638\n",
       "1               5       8.08       80000.0  519.801980\n",
       "2               4      20.00       80000.0  160.000000\n",
       "3               1      11.01      100000.0  108.991826\n",
       "4               3      16.67       80000.0   89.982004\n",
       "...           ...        ...           ...         ...\n",
       "142519          2       3.86       60000.0  569.948187\n",
       "142520          1      65.22       80000.0   22.999080\n",
       "142521          3       9.20      132500.0   86.956522\n",
       "142522          2       5.00      120000.0  100.000000\n",
       "142523          1       1.79       50000.0  279.329609\n",
       "\n",
       "[142524 rows x 4 columns]"
      ]
     },
     "execution_count": 19,
     "metadata": {},
     "output_type": "execute_result"
    }
   ],
   "source": [
    "df_num"
   ]
  },
  {
   "cell_type": "code",
   "execution_count": 20,
   "metadata": {
    "id": "3GJ6n5sLk29l"
   },
   "outputs": [],
   "source": [
    "le=LabelEncoder()\n",
    "df_cat['date']=le.fit_transform(df_cat['date'])"
   ]
  },
  {
   "cell_type": "code",
   "execution_count": 21,
   "metadata": {
    "id": "ITsFTIeVm2Bh"
   },
   "outputs": [],
   "source": [
    "df_new=pd.concat([df_num,df_cat],axis=1)"
   ]
  },
  {
   "cell_type": "code",
   "execution_count": 22,
   "metadata": {
    "id": "9y1o2Slam_2p"
   },
   "outputs": [],
   "source": [
    "x=df_new.drop(['ticket_price'],axis=1)\n",
    "y=df_new['ticket_price']"
   ]
  },
  {
   "cell_type": "code",
   "execution_count": 23,
   "metadata": {
    "colab": {
     "base_uri": "https://localhost:8080/",
     "height": 406
    },
    "id": "81zhOegUnInc",
    "outputId": "c11e042f-7894-4007-81b7-7124cd9e5869"
   },
   "outputs": [
    {
     "data": {
      "text/html": [
       "<div>\n",
       "<style scoped>\n",
       "    .dataframe tbody tr th:only-of-type {\n",
       "        vertical-align: middle;\n",
       "    }\n",
       "\n",
       "    .dataframe tbody tr th {\n",
       "        vertical-align: top;\n",
       "    }\n",
       "\n",
       "    .dataframe thead th {\n",
       "        text-align: right;\n",
       "    }\n",
       "</style>\n",
       "<table border=\"1\" class=\"dataframe\">\n",
       "  <thead>\n",
       "    <tr style=\"text-align: right;\">\n",
       "      <th></th>\n",
       "      <th>show_time</th>\n",
       "      <th>occu_perc</th>\n",
       "      <th>capacity</th>\n",
       "      <th>date</th>\n",
       "    </tr>\n",
       "  </thead>\n",
       "  <tbody>\n",
       "    <tr>\n",
       "      <th>0</th>\n",
       "      <td>4</td>\n",
       "      <td>4.26</td>\n",
       "      <td>610.328638</td>\n",
       "      <td>54</td>\n",
       "    </tr>\n",
       "    <tr>\n",
       "      <th>1</th>\n",
       "      <td>5</td>\n",
       "      <td>8.08</td>\n",
       "      <td>519.801980</td>\n",
       "      <td>54</td>\n",
       "    </tr>\n",
       "    <tr>\n",
       "      <th>2</th>\n",
       "      <td>4</td>\n",
       "      <td>20.00</td>\n",
       "      <td>160.000000</td>\n",
       "      <td>54</td>\n",
       "    </tr>\n",
       "    <tr>\n",
       "      <th>3</th>\n",
       "      <td>1</td>\n",
       "      <td>11.01</td>\n",
       "      <td>108.991826</td>\n",
       "      <td>54</td>\n",
       "    </tr>\n",
       "    <tr>\n",
       "      <th>4</th>\n",
       "      <td>3</td>\n",
       "      <td>16.67</td>\n",
       "      <td>89.982004</td>\n",
       "      <td>54</td>\n",
       "    </tr>\n",
       "    <tr>\n",
       "      <th>...</th>\n",
       "      <td>...</td>\n",
       "      <td>...</td>\n",
       "      <td>...</td>\n",
       "      <td>...</td>\n",
       "    </tr>\n",
       "    <tr>\n",
       "      <th>142519</th>\n",
       "      <td>2</td>\n",
       "      <td>3.86</td>\n",
       "      <td>569.948187</td>\n",
       "      <td>233</td>\n",
       "    </tr>\n",
       "    <tr>\n",
       "      <th>142520</th>\n",
       "      <td>1</td>\n",
       "      <td>65.22</td>\n",
       "      <td>22.999080</td>\n",
       "      <td>233</td>\n",
       "    </tr>\n",
       "    <tr>\n",
       "      <th>142521</th>\n",
       "      <td>3</td>\n",
       "      <td>9.20</td>\n",
       "      <td>86.956522</td>\n",
       "      <td>233</td>\n",
       "    </tr>\n",
       "    <tr>\n",
       "      <th>142522</th>\n",
       "      <td>2</td>\n",
       "      <td>5.00</td>\n",
       "      <td>100.000000</td>\n",
       "      <td>233</td>\n",
       "    </tr>\n",
       "    <tr>\n",
       "      <th>142523</th>\n",
       "      <td>1</td>\n",
       "      <td>1.79</td>\n",
       "      <td>279.329609</td>\n",
       "      <td>233</td>\n",
       "    </tr>\n",
       "  </tbody>\n",
       "</table>\n",
       "<p>142524 rows × 4 columns</p>\n",
       "</div>"
      ],
      "text/plain": [
       "        show_time  occu_perc    capacity  date\n",
       "0               4       4.26  610.328638    54\n",
       "1               5       8.08  519.801980    54\n",
       "2               4      20.00  160.000000    54\n",
       "3               1      11.01  108.991826    54\n",
       "4               3      16.67   89.982004    54\n",
       "...           ...        ...         ...   ...\n",
       "142519          2       3.86  569.948187   233\n",
       "142520          1      65.22   22.999080   233\n",
       "142521          3       9.20   86.956522   233\n",
       "142522          2       5.00  100.000000   233\n",
       "142523          1       1.79  279.329609   233\n",
       "\n",
       "[142524 rows x 4 columns]"
      ]
     },
     "execution_count": 23,
     "metadata": {},
     "output_type": "execute_result"
    }
   ],
   "source": [
    "x"
   ]
  },
  {
   "cell_type": "code",
   "execution_count": 24,
   "metadata": {
    "colab": {
     "base_uri": "https://localhost:8080/"
    },
    "id": "ZqS9gw0vnJFZ",
    "outputId": "8437a17d-3748-4a18-8437-a7c3527be381"
   },
   "outputs": [
    {
     "data": {
      "text/plain": [
       "0         150000.0\n",
       "1          80000.0\n",
       "2          80000.0\n",
       "3         100000.0\n",
       "4          80000.0\n",
       "            ...   \n",
       "142519     60000.0\n",
       "142520     80000.0\n",
       "142521    132500.0\n",
       "142522    120000.0\n",
       "142523     50000.0\n",
       "Name: ticket_price, Length: 142524, dtype: float64"
      ]
     },
     "execution_count": 24,
     "metadata": {},
     "output_type": "execute_result"
    }
   ],
   "source": [
    "y"
   ]
  },
  {
   "cell_type": "code",
   "execution_count": 25,
   "metadata": {
    "id": "ZgqzIuJMm-Fl"
   },
   "outputs": [],
   "source": [
    "xtrain,xtest,ytrain,ytest=train_test_split(x,y,test_size=0.3,random_state=123)"
   ]
  },
  {
   "cell_type": "code",
   "execution_count": 26,
   "metadata": {
    "colab": {
     "base_uri": "https://localhost:8080/",
     "height": 308
    },
    "id": "FuZqOHO4nWoL",
    "outputId": "50b19ebe-33fe-4359-b90d-f09460b7a420"
   },
   "outputs": [
    {
     "name": "stdout",
     "output_type": "stream",
     "text": [
      "R2 Score 0.059313145600033534\n"
     ]
    },
    {
     "data": {
      "image/png": "[encoded data removed]",
      "text/plain": [
       "<Figure size 432x288 with 1 Axes>"
      ]
     },
     "metadata": {
      "needs_background": "light"
     },
     "output_type": "display_data"
    }
   ],
   "source": [
    "lr= LinearRegression()\n",
    "lr.fit(xtrain,ytrain)\n",
    "yhat=lr.predict(xtest)\n",
    "residual=ytest-yhat\n",
    "sns.distplot(residual)\n",
    "print(\"R2 Score\",r2_score(ytest,yhat))"
   ]
  },
  {
   "cell_type": "code",
   "execution_count": 27,
   "metadata": {
    "colab": {
     "base_uri": "https://localhost:8080/"
    },
    "id": "wkrU29mGuStO",
    "outputId": "791929c3-8221-46e8-8aac-3acfe66d398e"
   },
   "outputs": [
    {
     "name": "stdout",
     "output_type": "stream",
     "text": [
      "R2 Score  2   0.08146289451482258\n",
      "R2 Score  3   0.11134679973862405\n",
      "R2 Score  4   0.1186969238365485\n",
      "R2 Score  5   0.043264282501975115\n",
      "R2 Score  6   0.061901007336142566\n",
      "R2 Score  7   -0.17760147676029958\n",
      "R2 Score  8   0.02131557514964766\n"
     ]
    }
   ],
   "source": [
    "for i in range(2,9):\n",
    "  pf=PolynomialFeatures(i)\n",
    "  x_poly=pf.fit_transform(x)\n",
    "  xtrain,xtest,ytrain,ytest=train_test_split(x_poly,y,test_size=0.3,random_state=123)\n",
    "  lr= LinearRegression()\n",
    "  lr.fit(xtrain,ytrain) \n",
    "  yhat=lr.predict(xtest)\n",
    "  print(\"R2 Score \",i,\" \",r2_score(ytest,yhat))"
   ]
  },
  {
   "cell_type": "code",
   "execution_count": 28,
   "metadata": {
    "colab": {
     "base_uri": "https://localhost:8080/",
     "height": 308
    },
    "id": "JyiqlRX_xUdR",
    "outputId": "eb3d8e53-3d5f-471d-d1ec-ae8632739637"
   },
   "outputs": [
    {
     "name": "stdout",
     "output_type": "stream",
     "text": [
      "R2 Score  8   0.1186969238365485\n"
     ]
    },
    {
     "data": {
      "image/png": "[encoded data removed]",
      "text/plain": [
       "<Figure size 432x288 with 1 Axes>"
      ]
     },
     "metadata": {
      "needs_background": "light"
     },
     "output_type": "display_data"
    }
   ],
   "source": [
    "pf=PolynomialFeatures(4)\n",
    "x_poly=pf.fit_transform(x)\n",
    "xtrain,xtest,ytrain,ytest=train_test_split(x_poly,y,test_size=0.3,random_state=123)\n",
    "lr= LinearRegression()\n",
    "lr.fit(xtrain,ytrain) \n",
    "yhat=lr.predict(xtest)\n",
    "residuals=ytest-yhat\n",
    "sns.distplot(residuals)\n",
    "print(\"R2 Score \",i,\" \",r2_score(ytest,yhat))"
   ]
  },
  {
   "cell_type": "code",
   "execution_count": 29,
   "metadata": {
    "colab": {
     "base_uri": "https://localhost:8080/",
     "height": 326
    },
    "id": "tFrz1hftxZ3h",
    "outputId": "1d04770f-e0d3-4d03-cfa5-cf459103d0d5"
   },
   "outputs": [
    {
     "name": "stdout",
     "output_type": "stream",
     "text": [
      "[10:08:36] WARNING: C:\\Users\\Administrator\\workspace\\xgboost-win64_release_1.1.0\\src\\learner.cc:480: \n",
      "Parameters: { base_estinamtor } might not be used.\n",
      "\n",
      "  This may not be accurate due to some parameters are only used in language bindings but\n",
      "  passed down to XGBoost core.  Or some parameters are not used but slip through this\n",
      "  verification. Please open an issue if you find above cases.\n",
      "\n",
      "\n",
      "R2 Score  8   0.5723427606785705\n"
     ]
    },
    {
     "data": {
      "image/png": "[encoded data removed]",
      "text/plain": [
       "<Figure size 432x288 with 1 Axes>"
      ]
     },
     "metadata": {
      "needs_background": "light"
     },
     "output_type": "display_data"
    }
   ],
   "source": [
    "xgb=XGBRegressor(base_estinamtor=LinearRegression())\n",
    "xtrain,xtest,ytrain,ytest=train_test_split(x,y,test_size=0.3,random_state=123)\n",
    "xgb.fit(xtrain,ytrain)\n",
    "yhat=xgb.predict(xtest)\n",
    "residuals=ytest-yhat\n",
    "sns.distplot(residuals)\n",
    "print(\"R2 Score \",i,\" \",r2_score(ytest,yhat))"
   ]
  },
  {
   "cell_type": "code",
   "execution_count": null,
   "metadata": {},
   "outputs": [],
   "source": []
  }
 ],
 "metadata": {
  "colab": {
   "name": "Untitled6.ipynb",
   "provenance": []
  },
  "kernelspec": {
   "display_name": "Python 3",
   "language": "python",
   "name": "python3"
  },
  "language_info": {
   "codemirror_mode": {
    "name": "ipython",
    "version": 3
   },
   "file_extension": ".py",
   "mimetype": "text/x-python",
   "name": "python",
   "nbconvert_exporter": "python",
   "pygments_lexer": "ipython3",
   "version": "3.7.6"
  }
 },
 "nbformat": 4,
 "nbformat_minor": 1
}
